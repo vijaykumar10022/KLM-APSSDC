{
 "cells": [
  {
   "cell_type": "markdown",
   "metadata": {},
   "source": [
    "#### Dictionaries\n",
    "### sets \n",
    "### packages and modules\n",
    "### Git &Github"
   ]
  },
  {
   "cell_type": "code",
   "execution_count": 1,
   "metadata": {},
   "outputs": [
    {
     "name": "stdout",
     "output_type": "stream",
     "text": [
      "8\n"
     ]
    }
   ],
   "source": [
    "# max\n",
    "lst=[3,5,7,8,2,6]\n",
    "print(max(lst))"
   ]
  },
  {
   "cell_type": "code",
   "execution_count": 2,
   "metadata": {},
   "outputs": [
    {
     "name": "stdout",
     "output_type": "stream",
     "text": [
      "11\n"
     ]
    }
   ],
   "source": [
    "#min\n",
    "lst=[55,64,11,88,33,99]\n",
    "print(min(lst))"
   ]
  },
  {
   "cell_type": "code",
   "execution_count": 4,
   "metadata": {},
   "outputs": [
    {
     "name": "stdout",
     "output_type": "stream",
     "text": [
      "40\n"
     ]
    }
   ],
   "source": [
    "#sum\n",
    "lst=[1,2,3,4,5,6,7,8,9,10]\n",
    "print(sum(lst[len(lst)//2:]))"
   ]
  },
  {
   "cell_type": "code",
   "execution_count": 5,
   "metadata": {},
   "outputs": [
    {
     "data": {
      "text/plain": [
       "1"
      ]
     },
     "execution_count": 5,
     "metadata": {},
     "output_type": "execute_result"
    }
   ],
   "source": [
    "#min\n",
    "tup1=(1,2,4,6,7,8)\n",
    "min(tup1)"
   ]
  },
  {
   "cell_type": "code",
   "execution_count": 6,
   "metadata": {},
   "outputs": [
    {
     "name": "stdout",
     "output_type": "stream",
     "text": [
      "75\n"
     ]
    }
   ],
   "source": [
    "#max\n",
    "tup=(43,23,64,13,75)\n",
    "print(max(tup))"
   ]
  },
  {
   "cell_type": "code",
   "execution_count": 8,
   "metadata": {},
   "outputs": [
    {
     "name": "stdout",
     "output_type": "stream",
     "text": [
      "809\n"
     ]
    }
   ],
   "source": [
    "#sum\n",
    "tup=(456,77,222,54)\n",
    "print(sum(tup))"
   ]
  },
  {
   "cell_type": "code",
   "execution_count": 20,
   "metadata": {},
   "outputs": [
    {
     "name": "stdout",
     "output_type": "stream",
     "text": [
      "['1', '2', '3', '4', '5', '6', '7', '8', '9']\n",
      "[1, 2, 3, 4, 5, 6, 7, 8, 9]\n",
      "45\n"
     ]
    }
   ],
   "source": [
    "#map\n",
    "# map(type,iterable)\n",
    "data=\"123456789\"\n",
    "data=list(data)#list type casting\n",
    "print(data)\n",
    "# to convert all individual charaters in to integertype\n",
    "data=list(map(int,data))\n",
    "print(data)\n",
    "print(sum(data))"
   ]
  },
  {
   "cell_type": "code",
   "execution_count": 16,
   "metadata": {},
   "outputs": [
    {
     "data": {
      "text/plain": [
       "[1, 2, 3, 4, 5, 6, 7, 8, 9]"
      ]
     },
     "execution_count": 16,
     "metadata": {},
     "output_type": "execute_result"
    }
   ],
   "source": [
    "data"
   ]
  },
  {
   "cell_type": "code",
   "execution_count": 19,
   "metadata": {},
   "outputs": [
    {
     "name": "stdout",
     "output_type": "stream",
     "text": [
      "['1', '2', '3', '4', '5', '6', '7', '8', '9']\n",
      "123456789\n"
     ]
    }
   ],
   "source": [
    "data=list(map(str,data))\n",
    "print(data)\n",
    "data=''.join(data)\n",
    "print(data)"
   ]
  },
  {
   "cell_type": "code",
   "execution_count": 23,
   "metadata": {},
   "outputs": [
    {
     "name": "stdout",
     "output_type": "stream",
     "text": [
      "2\n",
      "10 20 30 40 50\n",
      "150\n",
      "4 5 6 7 8\n",
      "30\n"
     ]
    }
   ],
   "source": [
    "# Testcases:3\n",
    "#     input:4 5 6 7 8\n",
    "#     output:30\n",
    "#     input:7 7 7\n",
    "#     output:21\n",
    "#     input:1 1 1 1\n",
    "#     output:4\n",
    "\n",
    "n=int(input())\n",
    "for i in range(n):\n",
    "    data=input()\n",
    "    data=data.split()\n",
    "    data=list(map(int,data))\n",
    "    print(sum(data))"
   ]
  },
  {
   "cell_type": "code",
   "execution_count": 24,
   "metadata": {},
   "outputs": [
    {
     "name": "stdout",
     "output_type": "stream",
     "text": [
      "3\n",
      "4 5 6 7 8\n",
      "30\n",
      "7 7 7\n",
      "21\n",
      "1 1 1 1\n",
      "4\n"
     ]
    }
   ],
   "source": [
    "n=int(input())\n",
    "for i in range(n):\n",
    "    print(sum(list(map(int,input().split()))))"
   ]
  },
  {
   "cell_type": "markdown",
   "metadata": {},
   "source": [
    "# Dictionaries :\n",
    "* Defination:Set of homegenoues dataset\n",
    "* data inclues:\n",
    "    - Integer\n",
    "    - float\n",
    "    - string\n",
    "    - list\n",
    "    - tuple\n",
    "* The short form is \"dict\" or data type\n",
    "* In Dict's have Data in the Form of KEY and Value Pair\n",
    "* here we reprasention through symbol is {}\n",
    "* Every pair is an item \n",
    "* Here have Mutable set\n",
    "* every key is unique \n",
    "* every key and value will serated by colon or :\n"
   ]
  },
  {
   "cell_type": "code",
   "execution_count": 25,
   "metadata": {},
   "outputs": [
    {
     "data": {
      "text/plain": [
       "{'Klm': 2008, 'cbit': 2008, 'apssdc': 2014}"
      ]
     },
     "execution_count": 25,
     "metadata": {},
     "output_type": "execute_result"
    }
   ],
   "source": [
    "d={\"Klm\":2008,\"cbit\":2008,\"apssdc\":2014}\n",
    "d"
   ]
  },
  {
   "cell_type": "code",
   "execution_count": 27,
   "metadata": {},
   "outputs": [
    {
     "name": "stdout",
     "output_type": "stream",
     "text": [
      "['__class__', '__contains__', '__delattr__', '__delitem__', '__dir__', '__doc__', '__eq__', '__format__', '__ge__', '__getattribute__', '__getitem__', '__gt__', '__hash__', '__init__', '__init_subclass__', '__iter__', '__le__', '__len__', '__lt__', '__ne__', '__new__', '__reduce__', '__reduce_ex__', '__repr__', '__setattr__', '__setitem__', '__sizeof__', '__str__', '__subclasshook__', 'clear', 'copy', 'fromkeys', 'get', 'items', 'keys', 'pop', 'popitem', 'setdefault', 'update', 'values']\n"
     ]
    }
   ],
   "source": [
    "type(d)\n",
    "print(dir(d))"
   ]
  },
  {
   "cell_type": "code",
   "execution_count": 28,
   "metadata": {},
   "outputs": [
    {
     "data": {
      "text/plain": [
       "dict_keys(['Klm', 'cbit', 'apssdc'])"
      ]
     },
     "execution_count": 28,
     "metadata": {},
     "output_type": "execute_result"
    }
   ],
   "source": [
    "d.keys()#for getting all keys"
   ]
  },
  {
   "cell_type": "code",
   "execution_count": 29,
   "metadata": {},
   "outputs": [
    {
     "data": {
      "text/plain": [
       "dict_values([2008, 2008, 2014])"
      ]
     },
     "execution_count": 29,
     "metadata": {},
     "output_type": "execute_result"
    }
   ],
   "source": [
    "d.values()# all values"
   ]
  },
  {
   "cell_type": "code",
   "execution_count": 30,
   "metadata": {},
   "outputs": [
    {
     "data": {
      "text/plain": [
       "dict_items([('Klm', 2008), ('cbit', 2008), ('apssdc', 2014)])"
      ]
     },
     "execution_count": 30,
     "metadata": {},
     "output_type": "execute_result"
    }
   ],
   "source": [
    "d.items()"
   ]
  },
  {
   "cell_type": "code",
   "execution_count": 34,
   "metadata": {},
   "outputs": [
    {
     "data": {
      "text/plain": [
       "('apssdc', 2014)"
      ]
     },
     "execution_count": 34,
     "metadata": {},
     "output_type": "execute_result"
    }
   ],
   "source": [
    "d.popitem()"
   ]
  },
  {
   "cell_type": "code",
   "execution_count": 35,
   "metadata": {},
   "outputs": [
    {
     "data": {
      "text/plain": [
       "{'Klm': 2008, 'cbit': 2008}"
      ]
     },
     "execution_count": 35,
     "metadata": {},
     "output_type": "execute_result"
    }
   ],
   "source": [
    "d"
   ]
  },
  {
   "cell_type": "code",
   "execution_count": 38,
   "metadata": {},
   "outputs": [
    {
     "data": {
      "text/plain": [
       "2008"
      ]
     },
     "execution_count": 38,
     "metadata": {},
     "output_type": "execute_result"
    }
   ],
   "source": [
    "d.pop(\"Klm\")"
   ]
  },
  {
   "cell_type": "code",
   "execution_count": 39,
   "metadata": {},
   "outputs": [
    {
     "data": {
      "text/plain": [
       "{'cbit': 2008}"
      ]
     },
     "execution_count": 39,
     "metadata": {},
     "output_type": "execute_result"
    }
   ],
   "source": [
    "d"
   ]
  },
  {
   "cell_type": "code",
   "execution_count": 40,
   "metadata": {},
   "outputs": [],
   "source": [
    "d['ksrm']=1990"
   ]
  },
  {
   "cell_type": "code",
   "execution_count": 41,
   "metadata": {},
   "outputs": [
    {
     "data": {
      "text/plain": [
       "{'cbit': 2008, 'ksrm': 1990}"
      ]
     },
     "execution_count": 41,
     "metadata": {},
     "output_type": "execute_result"
    }
   ],
   "source": [
    "d"
   ]
  },
  {
   "cell_type": "code",
   "execution_count": 42,
   "metadata": {},
   "outputs": [
    {
     "data": {
      "text/plain": [
       "dict_items([('cbit', 2008), ('ksrm', 1990)])"
      ]
     },
     "execution_count": 42,
     "metadata": {},
     "output_type": "execute_result"
    }
   ],
   "source": [
    "d.items()"
   ]
  },
  {
   "cell_type": "code",
   "execution_count": 43,
   "metadata": {},
   "outputs": [
    {
     "name": "stdout",
     "output_type": "stream",
     "text": [
      "cbit --> 2008\n",
      "ksrm --> 1990\n"
     ]
    }
   ],
   "source": [
    "#Accessing\n",
    "for key,value in d.items():\n",
    "    print(key,\"-->\",value)"
   ]
  },
  {
   "cell_type": "code",
   "execution_count": 48,
   "metadata": {
    "scrolled": true
   },
   "outputs": [
    {
     "name": "stdout",
     "output_type": "stream",
     "text": [
      "asdfakjdhfiahdifhakdshfkahsdiufyieryieuwsyrewiuewiu\n",
      "['a', 's', 'd', 'f', 'a', 'k', 'j', 'd', 'h', 'f', 'i', 'a', 'h', 'd', 'i', 'f', 'h', 'a', 'k', 'd', 's', 'h', 'f', 'k', 'a', 'h', 's', 'd', 'i', 'u', 'f', 'y', 'i', 'e', 'r', 'y', 'i', 'e', 'u', 'w', 's', 'y', 'r', 'e', 'w', 'i', 'u', 'e', 'w', 'i', 'u']\n",
      "{'a': 5, 's': 4, 'd': 5, 'f': 5, 'k': 3, 'j': 1, 'h': 5, 'i': 7, 'u': 4, 'y': 3, 'e': 4, 'r': 2, 'w': 3}\n",
      "a --> 5\n",
      "s --> 4\n",
      "d --> 5\n",
      "f --> 5\n",
      "k --> 3\n",
      "j --> 1\n",
      "h --> 5\n",
      "i --> 7\n",
      "u --> 4\n",
      "y --> 3\n",
      "e --> 4\n",
      "r --> 2\n",
      "w --> 3\n"
     ]
    }
   ],
   "source": [
    "# input:\"aaaabbbccc\"\n",
    "# output:a -->4\n",
    "#        b -->3\n",
    "#        c -->3\n",
    "res={}\n",
    "data=list(input())\n",
    "print(data)\n",
    "for ch in data:\n",
    "    res[ch]=data.count(ch)\n",
    "# print(res)\n",
    "for key,value in res.items():\n",
    "    print(key,\"-->\",value)\n",
    "    "
   ]
  },
  {
   "cell_type": "code",
   "execution_count": null,
   "metadata": {},
   "outputs": [],
   "source": []
  }
 ],
 "metadata": {
  "kernelspec": {
   "display_name": "Python 3",
   "language": "python",
   "name": "python3"
  },
  "language_info": {
   "codemirror_mode": {
    "name": "ipython",
    "version": 3
   },
   "file_extension": ".py",
   "mimetype": "text/x-python",
   "name": "python",
   "nbconvert_exporter": "python",
   "pygments_lexer": "ipython3",
   "version": "3.7.1"
  }
 },
 "nbformat": 4,
 "nbformat_minor": 2
}
