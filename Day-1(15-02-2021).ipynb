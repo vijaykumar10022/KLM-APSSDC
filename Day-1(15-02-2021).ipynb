{
 "cells": [
  {
   "cell_type": "code",
   "execution_count": 4,
   "metadata": {},
   "outputs": [
    {
     "name": "stdout",
     "output_type": "stream",
     "text": [
      "Hello KLM\n"
     ]
    }
   ],
   "source": [
    "print(\"Hello KLM\")"
   ]
  },
  {
   "cell_type": "code",
   "execution_count": null,
   "metadata": {},
   "outputs": [],
   "source": []
  },
  {
   "cell_type": "code",
   "execution_count": null,
   "metadata": {},
   "outputs": [],
   "source": []
  },
  {
   "cell_type": "code",
   "execution_count": 5,
   "metadata": {},
   "outputs": [
    {
     "data": {
      "text/plain": [
       "' dobule line /multiline commenting'"
      ]
     },
     "execution_count": 5,
     "metadata": {},
     "output_type": "execute_result"
    }
   ],
   "source": [
    "# single line commenting\n",
    "''' dobule line /multiline commenting'''"
   ]
  },
  {
   "cell_type": "code",
   "execution_count": 6,
   "metadata": {},
   "outputs": [],
   "source": [
    "#esp+b ->for inserting cell in below\n",
    "#esp+a ->for inseting cell in above\n",
    "#esp+double d ->for delete cell the paticular cell\n",
    "#esp +m -> for markdown"
   ]
  },
  {
   "cell_type": "markdown",
   "metadata": {},
   "source": [
    "# APSSDC\n",
    "## APSSDC\n",
    "### APSSDC\n"
   ]
  },
  {
   "cell_type": "markdown",
   "metadata": {},
   "source": [
    "* Ordered List \n",
    "    1. Ap\n",
    "        1. Kadapa\n",
    "        2. Ananthapur\n",
    "        3. Karnool\n",
    "    2. Ts\n",
    "        1. Kammam\n",
    "        2. Medhak\n",
    "    3. Tn\n",
    "        1. Kanchipurm\n",
    "        2. Baglur\n",
    "     \n",
    "* Unordered List\n",
    "   - KLM\n",
    "       - CSE\n",
    "       - ECE\n",
    "       - Civil\n",
    "   - KSRM\n",
    "       - All branches\n",
    "   - APSSDC\n",
    "       - Engineeting \n",
    "       - Non-Engineering"
   ]
  },
  {
   "cell_type": "code",
   "execution_count": 9,
   "metadata": {},
   "outputs": [
    {
     "name": "stdout",
     "output_type": "stream",
     "text": [
      "The value of a is  4\n"
     ]
    }
   ],
   "source": [
    "# Varable Declaration in Python\n",
    "a=4\n",
    "print(\"The value of a is \",a)\n",
    "# In C-Prog--> int a=4\n",
    "#              char c='a'\n",
    "#              Flot b=4.5"
   ]
  },
  {
   "cell_type": "code",
   "execution_count": 10,
   "metadata": {},
   "outputs": [
    {
     "name": "stdout",
     "output_type": "stream",
     "text": [
      "10 3.5 7\n"
     ]
    }
   ],
   "source": [
    "a=10\n",
    "b=3.5\n",
    "c=7\n",
    "print(a,b,c)"
   ]
  },
  {
   "cell_type": "code",
   "execution_count": 18,
   "metadata": {},
   "outputs": [
    {
     "data": {
      "text/plain": [
       "20"
      ]
     },
     "execution_count": 18,
     "metadata": {},
     "output_type": "execute_result"
    }
   ],
   "source": [
    "x,y,z=600,10,20 # Multiple Varable declaration\n",
    "z"
   ]
  },
  {
   "cell_type": "code",
   "execution_count": 20,
   "metadata": {},
   "outputs": [
    {
     "name": "stdout",
     "output_type": "stream",
     "text": [
      "620 addition of x and z \n",
      "620 addition of  600 and 20\n"
     ]
    }
   ],
   "source": [
    "print(x+z,\"addition of x and z \")\n",
    "print(x+z,\"addition of \",x,\"and\",z)"
   ]
  },
  {
   "cell_type": "markdown",
   "metadata": {},
   "source": [
    "# Write a program a basic arthametic oparation using static varable input"
   ]
  },
  {
   "cell_type": "code",
   "execution_count": 25,
   "metadata": {},
   "outputs": [
    {
     "name": "stdout",
     "output_type": "stream",
     "text": [
      "Additon of 2 and 6 is : 8\n",
      "Subtration of 2 and 6 is : -4\n",
      "Multiplication of 2 and 6 is : 12\n",
      "Division of 2 and 6 is : 0.3333333333333333\n",
      "Modulo Division of 2 and 6 is : 2\n",
      "Power of 2 and 6 is : 64\n"
     ]
    }
   ],
   "source": [
    "a=2\n",
    "b=6\n",
    "print(\"Additon of\", a ,\"and\", b ,\"is :\",a+b)\n",
    "print(\"Subtration of\", a ,\"and\", b ,\"is :\",a-b)\n",
    "print(\"Multiplication of\", a ,\"and\", b ,\"is :\",a*b)\n",
    "print(\"Division of\", a ,\"and\", b ,\"is :\",a/b)\n",
    "print(\"Modulo Division of\", a ,\"and\", b ,\"is :\",a%b)\n",
    "print(\"Power of\", a ,\"and\", b ,\"is :\",a**b)\n"
   ]
  },
  {
   "cell_type": "code",
   "execution_count": null,
   "metadata": {},
   "outputs": [],
   "source": []
  }
 ],
 "metadata": {
  "kernelspec": {
   "display_name": "Python 3",
   "language": "python",
   "name": "python3"
  },
  "language_info": {
   "codemirror_mode": {
    "name": "ipython",
    "version": 3
   },
   "file_extension": ".py",
   "mimetype": "text/x-python",
   "name": "python",
   "nbconvert_exporter": "python",
   "pygments_lexer": "ipython3",
   "version": "3.7.1"
  }
 },
 "nbformat": 4,
 "nbformat_minor": 2
}
