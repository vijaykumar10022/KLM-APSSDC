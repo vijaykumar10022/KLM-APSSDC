{
 "cells": [
  {
   "cell_type": "markdown",
   "metadata": {},
   "source": [
    "#### Dictionaries\n",
    "### sets \n",
    "### packages and modules\n",
    "### Git &Github"
   ]
  },
  {
   "cell_type": "code",
   "execution_count": 1,
   "metadata": {},
   "outputs": [
    {
     "name": "stdout",
     "output_type": "stream",
     "text": [
      "8\n"
     ]
    }
   ],
   "source": [
    "# max\n",
    "lst=[3,5,7,8,2,6]\n",
    "print(max(lst))"
   ]
  },
  {
   "cell_type": "code",
   "execution_count": 2,
   "metadata": {},
   "outputs": [
    {
     "name": "stdout",
     "output_type": "stream",
     "text": [
      "11\n"
     ]
    }
   ],
   "source": [
    "#min\n",
    "lst=[55,64,11,88,33,99]\n",
    "print(min(lst))"
   ]
  },
  {
   "cell_type": "code",
   "execution_count": 4,
   "metadata": {},
   "outputs": [
    {
     "name": "stdout",
     "output_type": "stream",
     "text": [
      "40\n"
     ]
    }
   ],
   "source": [
    "#sum\n",
    "lst=[1,2,3,4,5,6,7,8,9,10]\n",
    "print(sum(lst[len(lst)//2:]))"
   ]
  },
  {
   "cell_type": "code",
   "execution_count": 5,
   "metadata": {},
   "outputs": [
    {
     "data": {
      "text/plain": [
       "1"
      ]
     },
     "execution_count": 5,
     "metadata": {},
     "output_type": "execute_result"
    }
   ],
   "source": [
    "#min\n",
    "tup1=(1,2,4,6,7,8)\n",
    "min(tup1)"
   ]
  },
  {
   "cell_type": "code",
   "execution_count": 6,
   "metadata": {},
   "outputs": [
    {
     "name": "stdout",
     "output_type": "stream",
     "text": [
      "75\n"
     ]
    }
   ],
   "source": [
    "#max\n",
    "tup=(43,23,64,13,75)\n",
    "print(max(tup))"
   ]
  },
  {
   "cell_type": "code",
   "execution_count": 8,
   "metadata": {},
   "outputs": [
    {
     "name": "stdout",
     "output_type": "stream",
     "text": [
      "809\n"
     ]
    }
   ],
   "source": [
    "#sum\n",
    "tup=(456,77,222,54)\n",
    "print(sum(tup))"
   ]
  },
  {
   "cell_type": "code",
   "execution_count": 20,
   "metadata": {},
   "outputs": [
    {
     "name": "stdout",
     "output_type": "stream",
     "text": [
      "['1', '2', '3', '4', '5', '6', '7', '8', '9']\n",
      "[1, 2, 3, 4, 5, 6, 7, 8, 9]\n",
      "45\n"
     ]
    }
   ],
   "source": [
    "#map\n",
    "# map(type,iterable)\n",
    "data=\"123456789\"\n",
    "data=list(data)#list type casting\n",
    "print(data)\n",
    "# to convert all individual charaters in to integertype\n",
    "data=list(map(int,data))\n",
    "print(data)\n",
    "print(sum(data))"
   ]
  },
  {
   "cell_type": "code",
   "execution_count": 16,
   "metadata": {},
   "outputs": [
    {
     "data": {
      "text/plain": [
       "[1, 2, 3, 4, 5, 6, 7, 8, 9]"
      ]
     },
     "execution_count": 16,
     "metadata": {},
     "output_type": "execute_result"
    }
   ],
   "source": [
    "data"
   ]
  },
  {
   "cell_type": "code",
   "execution_count": 19,
   "metadata": {},
   "outputs": [
    {
     "name": "stdout",
     "output_type": "stream",
     "text": [
      "['1', '2', '3', '4', '5', '6', '7', '8', '9']\n",
      "123456789\n"
     ]
    }
   ],
   "source": [
    "data=list(map(str,data))\n",
    "print(data)\n",
    "data=''.join(data)\n",
    "print(data)"
   ]
  },
  {
   "cell_type": "code",
   "execution_count": 23,
   "metadata": {},
   "outputs": [
    {
     "name": "stdout",
     "output_type": "stream",
     "text": [
      "2\n",
      "10 20 30 40 50\n",
      "150\n",
      "4 5 6 7 8\n",
      "30\n"
     ]
    }
   ],
   "source": [
    "# Testcases:3\n",
    "#     input:4 5 6 7 8\n",
    "#     output:30\n",
    "#     input:7 7 7\n",
    "#     output:21\n",
    "#     input:1 1 1 1\n",
    "#     output:4\n",
    "\n",
    "n=int(input())\n",
    "for i in range(n):\n",
    "    data=input()\n",
    "    data=data.split()\n",
    "    data=list(map(int,data))\n",
    "    print(sum(data))"
   ]
  },
  {
   "cell_type": "code",
   "execution_count": 24,
   "metadata": {},
   "outputs": [
    {
     "name": "stdout",
     "output_type": "stream",
     "text": [
      "3\n",
      "4 5 6 7 8\n",
      "30\n",
      "7 7 7\n",
      "21\n",
      "1 1 1 1\n",
      "4\n"
     ]
    }
   ],
   "source": [
    "n=int(input())\n",
    "for i in range(n):\n",
    "    print(sum(list(map(int,input().split()))))"
   ]
  },
  {
   "cell_type": "markdown",
   "metadata": {},
   "source": [
    "# Dictionaries :\n",
    "* Defination:Set of homegenoues dataset\n",
    "* data inclues:\n",
    "    - Integer\n",
    "    - float\n",
    "    - string\n",
    "    - list\n",
    "    - tuple\n",
    "* The short form is \"dict\" or data type\n",
    "* In Dict's have Data in the Form of KEY and Value Pair\n",
    "* here we reprasention through symbol is {}\n",
    "* Every pair is an item \n",
    "* Here have Mutable set\n",
    "* every key is unique \n",
    "* every key and value will serated by colon or :\n"
   ]
  },
  {
   "cell_type": "code",
   "execution_count": 25,
   "metadata": {},
   "outputs": [
    {
     "data": {
      "text/plain": [
       "{'Klm': 2008, 'cbit': 2008, 'apssdc': 2014}"
      ]
     },
     "execution_count": 25,
     "metadata": {},
     "output_type": "execute_result"
    }
   ],
   "source": [
    "d={\"Klm\":2008,\"cbit\":2008,\"apssdc\":2014}\n",
    "d"
   ]
  },
  {
   "cell_type": "code",
   "execution_count": 27,
   "metadata": {},
   "outputs": [
    {
     "name": "stdout",
     "output_type": "stream",
     "text": [
      "['__class__', '__contains__', '__delattr__', '__delitem__', '__dir__', '__doc__', '__eq__', '__format__', '__ge__', '__getattribute__', '__getitem__', '__gt__', '__hash__', '__init__', '__init_subclass__', '__iter__', '__le__', '__len__', '__lt__', '__ne__', '__new__', '__reduce__', '__reduce_ex__', '__repr__', '__setattr__', '__setitem__', '__sizeof__', '__str__', '__subclasshook__', 'clear', 'copy', 'fromkeys', 'get', 'items', 'keys', 'pop', 'popitem', 'setdefault', 'update', 'values']\n"
     ]
    }
   ],
   "source": [
    "type(d)\n",
    "print(dir(d))"
   ]
  },
  {
   "cell_type": "code",
   "execution_count": 28,
   "metadata": {},
   "outputs": [
    {
     "data": {
      "text/plain": [
       "dict_keys(['Klm', 'cbit', 'apssdc'])"
      ]
     },
     "execution_count": 28,
     "metadata": {},
     "output_type": "execute_result"
    }
   ],
   "source": [
    "d.keys()#for getting all keys"
   ]
  },
  {
   "cell_type": "code",
   "execution_count": 29,
   "metadata": {},
   "outputs": [
    {
     "data": {
      "text/plain": [
       "dict_values([2008, 2008, 2014])"
      ]
     },
     "execution_count": 29,
     "metadata": {},
     "output_type": "execute_result"
    }
   ],
   "source": [
    "d.values()# all values"
   ]
  },
  {
   "cell_type": "code",
   "execution_count": 30,
   "metadata": {},
   "outputs": [
    {
     "data": {
      "text/plain": [
       "dict_items([('Klm', 2008), ('cbit', 2008), ('apssdc', 2014)])"
      ]
     },
     "execution_count": 30,
     "metadata": {},
     "output_type": "execute_result"
    }
   ],
   "source": [
    "d.items()"
   ]
  },
  {
   "cell_type": "code",
   "execution_count": 34,
   "metadata": {},
   "outputs": [
    {
     "data": {
      "text/plain": [
       "('apssdc', 2014)"
      ]
     },
     "execution_count": 34,
     "metadata": {},
     "output_type": "execute_result"
    }
   ],
   "source": [
    "d.popitem()"
   ]
  },
  {
   "cell_type": "code",
   "execution_count": 35,
   "metadata": {},
   "outputs": [
    {
     "data": {
      "text/plain": [
       "{'Klm': 2008, 'cbit': 2008}"
      ]
     },
     "execution_count": 35,
     "metadata": {},
     "output_type": "execute_result"
    }
   ],
   "source": [
    "d"
   ]
  },
  {
   "cell_type": "code",
   "execution_count": 38,
   "metadata": {},
   "outputs": [
    {
     "data": {
      "text/plain": [
       "2008"
      ]
     },
     "execution_count": 38,
     "metadata": {},
     "output_type": "execute_result"
    }
   ],
   "source": [
    "d.pop(\"Klm\")"
   ]
  },
  {
   "cell_type": "code",
   "execution_count": 39,
   "metadata": {},
   "outputs": [
    {
     "data": {
      "text/plain": [
       "{'cbit': 2008}"
      ]
     },
     "execution_count": 39,
     "metadata": {},
     "output_type": "execute_result"
    }
   ],
   "source": [
    "d"
   ]
  },
  {
   "cell_type": "code",
   "execution_count": 40,
   "metadata": {},
   "outputs": [],
   "source": [
    "d['ksrm']=1990"
   ]
  },
  {
   "cell_type": "code",
   "execution_count": 41,
   "metadata": {},
   "outputs": [
    {
     "data": {
      "text/plain": [
       "{'cbit': 2008, 'ksrm': 1990}"
      ]
     },
     "execution_count": 41,
     "metadata": {},
     "output_type": "execute_result"
    }
   ],
   "source": [
    "d"
   ]
  },
  {
   "cell_type": "code",
   "execution_count": 42,
   "metadata": {},
   "outputs": [
    {
     "data": {
      "text/plain": [
       "dict_items([('cbit', 2008), ('ksrm', 1990)])"
      ]
     },
     "execution_count": 42,
     "metadata": {},
     "output_type": "execute_result"
    }
   ],
   "source": [
    "d.items()"
   ]
  },
  {
   "cell_type": "code",
   "execution_count": 43,
   "metadata": {},
   "outputs": [
    {
     "name": "stdout",
     "output_type": "stream",
     "text": [
      "cbit --> 2008\n",
      "ksrm --> 1990\n"
     ]
    }
   ],
   "source": [
    "#Accessing\n",
    "for key,value in d.items():\n",
    "    print(key,\"-->\",value)"
   ]
  },
  {
   "cell_type": "code",
   "execution_count": 48,
   "metadata": {
    "scrolled": true
   },
   "outputs": [
    {
     "name": "stdout",
     "output_type": "stream",
     "text": [
      "asdfakjdhfiahdifhakdshfkahsdiufyieryieuwsyrewiuewiu\n",
      "['a', 's', 'd', 'f', 'a', 'k', 'j', 'd', 'h', 'f', 'i', 'a', 'h', 'd', 'i', 'f', 'h', 'a', 'k', 'd', 's', 'h', 'f', 'k', 'a', 'h', 's', 'd', 'i', 'u', 'f', 'y', 'i', 'e', 'r', 'y', 'i', 'e', 'u', 'w', 's', 'y', 'r', 'e', 'w', 'i', 'u', 'e', 'w', 'i', 'u']\n",
      "{'a': 5, 's': 4, 'd': 5, 'f': 5, 'k': 3, 'j': 1, 'h': 5, 'i': 7, 'u': 4, 'y': 3, 'e': 4, 'r': 2, 'w': 3}\n",
      "a --> 5\n",
      "s --> 4\n",
      "d --> 5\n",
      "f --> 5\n",
      "k --> 3\n",
      "j --> 1\n",
      "h --> 5\n",
      "i --> 7\n",
      "u --> 4\n",
      "y --> 3\n",
      "e --> 4\n",
      "r --> 2\n",
      "w --> 3\n"
     ]
    }
   ],
   "source": [
    "# input:\"aaaabbbccc\"\n",
    "# output:a -->4\n",
    "#        b -->3\n",
    "#        c -->3\n",
    "res={}\n",
    "data=list(input())\n",
    "print(data)\n",
    "for ch in data:\n",
    "    res[ch]=data.count(ch)\n",
    "# print(res)\n",
    "for key,value in res.items():\n",
    "    print(key,\"-->\",value)\n",
    "    "
   ]
  },
  {
   "cell_type": "code",
   "execution_count": 49,
   "metadata": {},
   "outputs": [
    {
     "name": "stdout",
     "output_type": "stream",
     "text": [
      "{'Kumar', 'muni', 'vijay', 'Hari'}\n"
     ]
    }
   ],
   "source": [
    "# # Sets \n",
    "#     - it mutable\n",
    "#     - it's symbol is {}\n",
    "#     - type is set\n",
    "#     - it containe only uniq values\n",
    "data={\"vijay\",\"muni\",\"Hari\",\"Kumar\"}\n",
    "print(data)"
   ]
  },
  {
   "cell_type": "code",
   "execution_count": 50,
   "metadata": {},
   "outputs": [
    {
     "data": {
      "text/plain": [
       "set"
      ]
     },
     "execution_count": 50,
     "metadata": {},
     "output_type": "execute_result"
    }
   ],
   "source": [
    "type(data)"
   ]
  },
  {
   "cell_type": "code",
   "execution_count": 51,
   "metadata": {},
   "outputs": [
    {
     "name": "stdout",
     "output_type": "stream",
     "text": [
      "['__and__', '__class__', '__contains__', '__delattr__', '__dir__', '__doc__', '__eq__', '__format__', '__ge__', '__getattribute__', '__gt__', '__hash__', '__iand__', '__init__', '__init_subclass__', '__ior__', '__isub__', '__iter__', '__ixor__', '__le__', '__len__', '__lt__', '__ne__', '__new__', '__or__', '__rand__', '__reduce__', '__reduce_ex__', '__repr__', '__ror__', '__rsub__', '__rxor__', '__setattr__', '__sizeof__', '__str__', '__sub__', '__subclasshook__', '__xor__', 'add', 'clear', 'copy', 'difference', 'difference_update', 'discard', 'intersection', 'intersection_update', 'isdisjoint', 'issubset', 'issuperset', 'pop', 'remove', 'symmetric_difference', 'symmetric_difference_update', 'union', 'update']\n"
     ]
    }
   ],
   "source": [
    "print(dir(data))"
   ]
  },
  {
   "cell_type": "code",
   "execution_count": 52,
   "metadata": {},
   "outputs": [
    {
     "name": "stdout",
     "output_type": "stream",
     "text": [
      "aaaabbbbrrrruuuiiiiiii\n",
      "abrui\n"
     ]
    }
   ],
   "source": [
    "# input:\"aaaabbbbrrrruuuiiiiiii\"\n",
    "# output:abrui\n",
    "res=''\n",
    "data=input()\n",
    "for ch in data:\n",
    "    if ch not in res:\n",
    "        res=res+ch\n",
    "print(res)"
   ]
  },
  {
   "cell_type": "code",
   "execution_count": 56,
   "metadata": {},
   "outputs": [
    {
     "name": "stdout",
     "output_type": "stream",
     "text": [
      "aaaabbbbrrrruuuiiiiiii\n",
      "iubra\n"
     ]
    }
   ],
   "source": [
    "# input:\"aaaabbbbrrrruuuiiiiiii\"\n",
    "# output:abrui\n",
    "data=input()\n",
    "data=list(data)\n",
    "data=set(data)\n",
    "data=''.join(data)\n",
    "print(data)\n",
    "# or\n",
    "# print(''.join(set(list(data))))"
   ]
  },
  {
   "cell_type": "code",
   "execution_count": null,
   "metadata": {},
   "outputs": [],
   "source": [
    "# Regular expressions\n",
    "* What is regular expression in Python?\n",
    "A regular expression is a special sequence of characters that helps you match or find other strings or sets of strings, using a specialized syntax held in a pattern. ... The Python module re provides full support for Perl-like regular expressions in Python. The re module raises the exception re.\n",
    "* It is one type sybolic reprasention\n",
    "* it will give 100% result\n",
    "* the shortform is \"re\""
   ]
  },
  {
   "cell_type": "code",
   "execution_count": null,
   "metadata": {},
   "outputs": [],
   "source": [
    "#Symbols for regular expressions\n",
    "#^-->starting with exact letter\n",
    "#$-->ending with exact letter\n",
    "#.-->any single char\n",
    "#|-->either first or second expression (multiple expressions)\n",
    "#*-->multiply\n",
    "#+-->adding the single char\n",
    "\n",
    "#[ ]--> Contains a set of characters to match.\n",
    "#[amk]--> Matches either a, m, or k. It does not match amk.\n",
    "#()-->it will match the entire string\n",
    "#{10}-->it will match some range\n",
    "#{0,9}-->starting and ending\n"
   ]
  },
  {
   "cell_type": "code",
   "execution_count": null,
   "metadata": {},
   "outputs": [],
   "source": [
    "# exapmles\n",
    "#1.4digit number -highlight the 4 digits\n",
    "#^[0-9]{4}$\n",
    "    #1->a)-start with 8 and that number should be 5 number \n",
    "    #    ^[8][0-9]{4}$\n",
    "#2.enable the all even number the given number\n",
    "# [02468]\n",
    "#3.\"rama\",\"ramaya\",\"sitaram\",\"srisitha\",\"ohmsairam\"\n",
    "        #^[rama]{4}$|^(rama)$|\n",
    "#4.Mobile number validation-10 digit number\n",
    "    #Case:1-->a)9876543210\n",
    "     #        b)8765432109\n",
    "     #        c)7654321098\n",
    "     #        b)6543210987\n",
    "    #case:2-->a)09876543210\n",
    "     #        b)08765432109\n",
    "     #        c)07654321098\n",
    "     #        b)06543210987\n",
    "     #case:2-->a)+919876543210\n",
    "     #        b)+918765432109\n",
    "     #        c)+917654321098\n",
    "     #        b)+916543210987\n",
    "#5.email-validation-\n",
    "        #usename_name-@domine_name-suffix(.in or .com)\n",
    "    #case-1:muneiah.t@apssdc.in\n",
    "           #muni.apssdc@gmail.com\n",
    "          #muneiahtellakula@gmail.com\n",
    "          #muni.apssdc@yahoo.com\n",
    "          #munisaho@outlook.com\n",
    "        #marmpadmaja307@gmail.com\n",
    "        "
   ]
  }
 ],
 "metadata": {
  "kernelspec": {
   "display_name": "Python 3",
   "language": "python",
   "name": "python3"
  },
  "language_info": {
   "codemirror_mode": {
    "name": "ipython",
    "version": 3
   },
   "file_extension": ".py",
   "mimetype": "text/x-python",
   "name": "python",
   "nbconvert_exporter": "python",
   "pygments_lexer": "ipython3",
   "version": "3.7.1"
  }
 },
 "nbformat": 4,
 "nbformat_minor": 2
}
