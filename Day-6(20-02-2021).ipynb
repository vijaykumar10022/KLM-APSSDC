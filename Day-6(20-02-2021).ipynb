{
 "cells": [
  {
   "cell_type": "code",
   "execution_count": null,
   "metadata": {},
   "outputs": [],
   "source": [
    "Today Agenda:\n",
    "    - git&github environment\n",
    "    - python\n",
    "        - packages and modules\n",
    "        - Regular Expressions with python\n",
    "        - list comprehension\n",
    "        - lamda\n",
    "        - filter \n",
    "        - files\n",
    "        - Data Analysis\n",
    "            - numpy\n",
    "            - pandas"
   ]
  }
 ],
 "metadata": {
  "kernelspec": {
   "display_name": "Python 3",
   "language": "python",
   "name": "python3"
  },
  "language_info": {
   "codemirror_mode": {
    "name": "ipython",
    "version": 3
   },
   "file_extension": ".py",
   "mimetype": "text/x-python",
   "name": "python",
   "nbconvert_exporter": "python",
   "pygments_lexer": "ipython3",
   "version": "3.7.1"
  }
 },
 "nbformat": 4,
 "nbformat_minor": 2
}
