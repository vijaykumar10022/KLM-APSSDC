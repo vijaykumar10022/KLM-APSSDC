{
 "cells": [
  {
   "cell_type": "markdown",
   "metadata": {},
   "source": [
    "# Today's Objective\n",
    "1. Python Statements\n",
    "2. Data types In Python \n",
    "    1. String \n",
    "    2. Integer\n",
    "    3. Float\n",
    "3. Getting Input from User or dynamic input\n",
    "4. Keywords In Pyhton\n",
    "5. Oparators "
   ]
  },
  {
   "cell_type": "code",
   "execution_count": 2,
   "metadata": {},
   "outputs": [
    {
     "name": "stdout",
     "output_type": "stream",
     "text": [
      "Enter the Greeting to your friend good morning\n",
      "good morning\n"
     ]
    }
   ],
   "source": [
    " #Getting Input from User or dynamic input\n",
    "# input \n",
    "my_input=input(\"Enter the Greeting to your friend \")\n",
    "print(my_input)"
   ]
  },
  {
   "cell_type": "code",
   "execution_count": 4,
   "metadata": {},
   "outputs": [
    {
     "name": "stdout",
     "output_type": "stream",
     "text": [
      "enter the first num 2\n",
      "enter the second num 6\n",
      "addition is  8\n"
     ]
    }
   ],
   "source": [
    "number1=int(input(\"enter the first num \"))\n",
    "number2=int(input(\"enter the second num \"))\n",
    "print(\"addition is \",number1+number2)"
   ]
  },
  {
   "cell_type": "code",
   "execution_count": 7,
   "metadata": {},
   "outputs": [
    {
     "name": "stdout",
     "output_type": "stream",
     "text": [
      "ENTER THE welcome Msg welcome to KLM\n",
      "welcome to KLM muni\n"
     ]
    }
   ],
   "source": [
    "name=\"muni\"\n",
    "myinput=input(\"ENTER THE welcome Msg \")\n",
    "print(myinput,name)\n"
   ]
  },
  {
   "cell_type": "code",
   "execution_count": 10,
   "metadata": {},
   "outputs": [
    {
     "name": "stdout",
     "output_type": "stream",
     "text": [
      "<class 'int'>\n",
      "<class 'float'>\n",
      "<class 'str'>\n"
     ]
    }
   ],
   "source": [
    "#  Data types In Python \n",
    "#     1. String \n",
    "#     2. Integer\n",
    "#     3. Float\n",
    "a=10\n",
    "b=2.4\n",
    "c=\"apssdc\"\n",
    "print(type(a))\n",
    "print(type(b))\n",
    "print(type(c))"
   ]
  },
  {
   "cell_type": "code",
   "execution_count": 16,
   "metadata": {},
   "outputs": [
    {
     "name": "stdout",
     "output_type": "stream",
     "text": [
      "1 --> False\n",
      "2 --> None\n",
      "3 --> True\n",
      "4 --> and\n",
      "5 --> as\n",
      "6 --> assert\n",
      "7 --> async\n",
      "8 --> await\n",
      "9 --> break\n",
      "10 --> class\n",
      "11 --> continue\n",
      "12 --> def\n",
      "13 --> del\n",
      "14 --> elif\n",
      "15 --> else\n",
      "16 --> except\n",
      "17 --> finally\n",
      "18 --> for\n",
      "19 --> from\n",
      "20 --> global\n",
      "21 --> if\n",
      "22 --> import\n",
      "23 --> in\n",
      "24 --> is\n",
      "25 --> lambda\n",
      "26 --> nonlocal\n",
      "27 --> not\n",
      "28 --> or\n",
      "29 --> pass\n",
      "30 --> raise\n",
      "31 --> return\n",
      "32 --> try\n",
      "33 --> while\n",
      "34 --> with\n",
      "35 --> yield\n"
     ]
    }
   ],
   "source": [
    "# Keywords in Python :Reserved words in Pyhton \n",
    "# we cann't use this keywords into variables\n",
    "import keyword\n",
    "\n",
    "n=0\n",
    "for i in keyword.kwlist:\n",
    "    n=n+1\n",
    "    print(n,\"-->\",i)\n",
    "\n",
    "    "
   ]
  },
  {
   "cell_type": "code",
   "execution_count": 18,
   "metadata": {},
   "outputs": [
    {
     "name": "stdout",
     "output_type": "stream",
     "text": [
      "['False', 'None', 'True', 'and', 'as', 'assert', 'async', 'await', 'break', 'class', 'continue', 'def', 'del', 'elif', 'else', 'except', 'finally', 'for', 'from', 'global', 'if', 'import', 'in', 'is', 'lambda', 'nonlocal', 'not', 'or', 'pass', 'raise', 'return', 'try', 'while', 'with', 'yield']\n"
     ]
    }
   ],
   "source": [
    "import keyword\n",
    "print(keyword.kwlist)"
   ]
  },
  {
   "cell_type": "code",
   "execution_count": null,
   "metadata": {},
   "outputs": [],
   "source": [
    "# Python Statements\n",
    "#3 types\n",
    "# Conditional Stmts\n",
    "    # 1. if conditon\n",
    "    # 2. if else\n",
    "    # 3. if else if \n",
    "# Control Stms or looping or Iterators \n",
    "    #1. For loop\n",
    "    #2. While Loop\n",
    "# Jumpping stms\n",
    "    #1. Break\n",
    "    #2. Continue"
   ]
  },
  {
   "cell_type": "code",
   "execution_count": null,
   "metadata": {},
   "outputs": [],
   "source": [
    "# Conditional Stmts\n",
    "    # 1. if conditon\n",
    "#syntax of if condition\n",
    "  #in c-programming      if (condtion){\n",
    "                            #...stms\n",
    "                        #}\n",
    "# in pyhton syntax\n",
    "if condition:\n",
    "    ...stms"
   ]
  },
  {
   "cell_type": "code",
   "execution_count": 19,
   "metadata": {},
   "outputs": [
    {
     "name": "stdout",
     "output_type": "stream",
     "text": [
      "a is smaller then b\n"
     ]
    }
   ],
   "source": [
    "#example in if condtion \n",
    "a=10\n",
    "b=20\n",
    "if a<b:\n",
    "    print(\"a is smaller then b\")"
   ]
  },
  {
   "cell_type": "code",
   "execution_count": 20,
   "metadata": {},
   "outputs": [],
   "source": [
    "a=30\n",
    "b=20\n",
    "if a<b:\n",
    "    print(\"a is smaller then b\")"
   ]
  },
  {
   "cell_type": "code",
   "execution_count": 21,
   "metadata": {},
   "outputs": [
    {
     "ename": "IndentationError",
     "evalue": "expected an indented block (<ipython-input-21-d762a014fa04>, line 4)",
     "output_type": "error",
     "traceback": [
      "\u001b[1;36m  File \u001b[1;32m\"<ipython-input-21-d762a014fa04>\"\u001b[1;36m, line \u001b[1;32m4\u001b[0m\n\u001b[1;33m    print(\"a is smaller then b\")\u001b[0m\n\u001b[1;37m        ^\u001b[0m\n\u001b[1;31mIndentationError\u001b[0m\u001b[1;31m:\u001b[0m expected an indented block\n"
     ]
    }
   ],
   "source": [
    "a=10\n",
    "b=20\n",
    "if a<b:\n",
    "    print(\"a is smaller then b\")"
   ]
  },
  {
   "cell_type": "code",
   "execution_count": null,
   "metadata": {},
   "outputs": [],
   "source": [
    " # 2. if else syntax\n",
    "if condition:\n",
    "    ..statemts\n",
    "else:\n",
    "    ..statements"
   ]
  },
  {
   "cell_type": "code",
   "execution_count": 25,
   "metadata": {},
   "outputs": [
    {
     "name": "stdout",
     "output_type": "stream",
     "text": [
      "a is grater\n"
     ]
    }
   ],
   "source": [
    "a=1000\n",
    "b=20\n",
    "if a<b:\n",
    "    print(\"a is smaller then b\")\n",
    "else:\n",
    "    print(\"a is grater\")"
   ]
  },
  {
   "cell_type": "code",
   "execution_count": null,
   "metadata": {},
   "outputs": [],
   "source": [
    "# Conditional Stmts\n",
    "# 3. if else if \n",
    "# if condtion:\n",
    "#     ...statement\n",
    "# elif:\n",
    "#     ...statemts\n",
    "# else condition:\n",
    "#     ...satemts\n"
   ]
  },
  {
   "cell_type": "code",
   "execution_count": 30,
   "metadata": {},
   "outputs": [
    {
     "name": "stdout",
     "output_type": "stream",
     "text": [
      "c is grater\n"
     ]
    }
   ],
   "source": [
    "# Example :Find the greater number\n",
    "a=10\n",
    "b=20\n",
    "c=300\n",
    "if a>b:\n",
    "    print(\"a grater\")\n",
    "elif b>c:\n",
    "    print(\"b is grater \")\n",
    "else:\n",
    "    print(\"c is grater\")\n"
   ]
  },
  {
   "cell_type": "code",
   "execution_count": 33,
   "metadata": {},
   "outputs": [
    {
     "name": "stdout",
     "output_type": "stream",
     "text": [
      "800\n",
      "4\n",
      "900\n",
      "n3 is grater\n"
     ]
    }
   ],
   "source": [
    "# Example :Find the greater number with dynamic input value\n",
    "n1=int(input())\n",
    "n2=int(input())\n",
    "n3=int(input())\n",
    "if n1>n2 and n1>n3:\n",
    "    print(\"n1 grater\")\n",
    "elif n2>n3:\n",
    "    print(\"n2 is grater \")\n",
    "else:\n",
    "    print(\"n3 is grater\")\n"
   ]
  },
  {
   "cell_type": "code",
   "execution_count": 35,
   "metadata": {},
   "outputs": [
    {
     "name": "stdout",
     "output_type": "stream",
     "text": [
      "Enter usernamevijay\n",
      "Enter passwordvijay@123\n",
      "Invalid\n"
     ]
    }
   ],
   "source": [
    "#Verify the credintials valid or invalid\n",
    "# Test Case :1\n",
    "#     input:\n",
    "#         username:apssdc\n",
    "#         password:klm@123\n",
    "#     output:\n",
    "#         valid\n",
    "#          welcome to APSSDC\n",
    "\n",
    "\n",
    "uname=input(\"Enter username\")\n",
    "psw=input(\"Enter password\")\n",
    "if uname==\"apssdc\" and psw==\"klm@123\":\n",
    "    print(\"Valid\")\n",
    "    print(\"Welcome to \",uname)\n",
    "else:\n",
    "    print(\"Invalid\")\n",
    "\n",
    "        \n",
    "        \n",
    "    "
   ]
  },
  {
   "cell_type": "code",
   "execution_count": 43,
   "metadata": {},
   "outputs": [
    {
     "name": "stdout",
     "output_type": "stream",
     "text": [
      "Enter usernameapssdc\n",
      "Enter Password87\n",
      "invalid password\n",
      "Enter Correct passworAPSSDC@123\n",
      "Welcome use\n"
     ]
    }
   ],
   "source": [
    "username=\"apssdc\"\n",
    "password=\"APSSDC@123\"\n",
    "uname=input(\"Enter username\")\n",
    "if uname==username:\n",
    "    psw=input(\"Enter Password\")\n",
    "    if psw==password:\n",
    "        print(\"Welcome User\")\n",
    "    else:\n",
    "        print(\"invalid password\")\n",
    "        psw2=input(\"Enter Correct passwor\")\n",
    "        if psw2==password:\n",
    "            print(\"Welcome use\")\n",
    "else:\n",
    "    print(\"invalid username\")"
   ]
  },
  {
   "cell_type": "code",
   "execution_count": 44,
   "metadata": {},
   "outputs": [
    {
     "data": {
      "text/plain": [
       "4"
      ]
     },
     "execution_count": 44,
     "metadata": {},
     "output_type": "execute_result"
    }
   ],
   "source": [
    "78954%10"
   ]
  },
  {
   "cell_type": "code",
   "execution_count": 45,
   "metadata": {},
   "outputs": [
    {
     "data": {
      "text/plain": [
       "8"
      ]
     },
     "execution_count": 45,
     "metadata": {},
     "output_type": "execute_result"
    }
   ],
   "source": [
    "9658%10"
   ]
  },
  {
   "cell_type": "code",
   "execution_count": 46,
   "metadata": {},
   "outputs": [
    {
     "data": {
      "text/plain": [
       "63"
      ]
     },
     "execution_count": 46,
     "metadata": {},
     "output_type": "execute_result"
    }
   ],
   "source": [
    "4563%100"
   ]
  },
  {
   "cell_type": "code",
   "execution_count": null,
   "metadata": {},
   "outputs": [],
   "source": [
    "/-->coefient %-->reminder"
   ]
  },
  {
   "cell_type": "code",
   "execution_count": 47,
   "metadata": {},
   "outputs": [
    {
     "data": {
      "text/plain": [
       "3"
      ]
     },
     "execution_count": 47,
     "metadata": {},
     "output_type": "execute_result"
    }
   ],
   "source": [
    "123%10"
   ]
  },
  {
   "cell_type": "code",
   "execution_count": 48,
   "metadata": {},
   "outputs": [
    {
     "data": {
      "text/plain": [
       "12.3"
      ]
     },
     "execution_count": 48,
     "metadata": {},
     "output_type": "execute_result"
    }
   ],
   "source": [
    "123/10"
   ]
  },
  {
   "cell_type": "code",
   "execution_count": null,
   "metadata": {},
   "outputs": [],
   "source": [
    "# Test Case-1\n",
    "# inputs:78 25 32 66 33\n",
    "\n",
    "#     hint:last digits sum is divisible by both 2 or 10\n",
    "#         8+5+2+6+3-->24%2\n",
    "# output:yes\n",
    "\n",
    "# Test Case:2\n",
    "# inputs:21 25 37 23\n",
    "#     hint:1+6+7+3 -->17\n",
    "# output:NO"
   ]
  },
  {
   "cell_type": "markdown",
   "metadata": {},
   "source": [
    "# Control Stms or looping or Iterators \n",
    "    1.For loop:\n",
    "    for-loops using for number of itartions \n",
    "    \n",
    "    2. While Loop"
   ]
  },
  {
   "cell_type": "code",
   "execution_count": 49,
   "metadata": {},
   "outputs": [
    {
     "name": "stdout",
     "output_type": "stream",
     "text": [
      "1\n",
      "2\n",
      "3\n"
     ]
    }
   ],
   "source": [
    "# i need to print the first 10 natural numbers\n",
    "print(1)\n",
    "print(2)\n",
    "print(3)"
   ]
  },
  {
   "cell_type": "code",
   "execution_count": null,
   "metadata": {},
   "outputs": [],
   "source": [
    "#for loop syntax\n",
    "for element_name in range(start_point,ending_point):\n",
    "    ...statement"
   ]
  },
  {
   "cell_type": "code",
   "execution_count": 51,
   "metadata": {},
   "outputs": [
    {
     "name": "stdout",
     "output_type": "stream",
     "text": [
      "1\n",
      "2\n",
      "3\n",
      "4\n",
      "5\n",
      "6\n",
      "7\n",
      "8\n",
      "9\n",
      "10\n"
     ]
    }
   ],
   "source": [
    "for number in range(1,11):\n",
    "    print(number)"
   ]
  },
  {
   "cell_type": "code",
   "execution_count": 57,
   "metadata": {},
   "outputs": [
    {
     "name": "stdout",
     "output_type": "stream",
     "text": [
      "39\n",
      "odd number\n"
     ]
    }
   ],
   "source": [
    "#print the even numbers from 1 to 10\n",
    "num=int(input())\n",
    "if num%2==0:\n",
    "    print(\"even number\")\n",
    "else:\n",
    "    print(\"odd number\")"
   ]
  },
  {
   "cell_type": "code",
   "execution_count": 58,
   "metadata": {},
   "outputs": [
    {
     "name": "stdout",
     "output_type": "stream",
     "text": [
      "2\n",
      "4\n",
      "6\n",
      "8\n",
      "10\n"
     ]
    }
   ],
   "source": [
    "#generating the 1 to 10 even numbers in vertical\n",
    "for n in range(1,11):\n",
    "    if n%2==0:\n",
    "        print(n)\n",
    "    "
   ]
  },
  {
   "cell_type": "code",
   "execution_count": 64,
   "metadata": {},
   "outputs": [
    {
     "name": "stdout",
     "output_type": "stream",
     "text": [
      "2,4,6,8,10,"
     ]
    }
   ],
   "source": [
    "#generating the 1 to 10 even numbers in Horizantal\n",
    "for n in range(1,11):\n",
    "    if n%2==0:\n",
    "        print(n,end=\",\")"
   ]
  },
  {
   "cell_type": "code",
   "execution_count": 70,
   "metadata": {},
   "outputs": [
    {
     "name": "stdout",
     "output_type": "stream",
     "text": [
      "2 4 6 8 10 "
     ]
    }
   ],
   "source": [
    "#generating the 1 to 10 even numbers in Horizantal\n",
    "for n in range(1,11):\n",
    "    if n%2!=1:\n",
    "        print(n,end=\" \")"
   ]
  },
  {
   "cell_type": "markdown",
   "metadata": {},
   "source": [
    "### Assignment -1:\n",
    "   * print the Multiplication table for given number range is 1 to 10\n",
    "   * example:n=3\n",
    "           3x1=3\n",
    "           3x2=6\n",
    "           3x3=9\n",
    "           3x4=12\n",
    "           3x5=15\n",
    "           3x6=18\n",
    "           3x7=21\n",
    "           3x8=24\n",
    "           3x9=27\n",
    "           3x10=30\n",
    "### Assignment -2:\n",
    "*  Generate all the rollnumbers from 193H1A0501 to 193H1A0561\n",
    "*  example:193H1A0501\n",
    "          193H1A0502\n",
    "          .....\n",
    "          ...\n",
    "          193H1A0561\n",
    "### Assignment -3:\n",
    "*  Generate all the rollnumbers from 193H1A0501 to 193H1A0561   \n",
    "*  Skip the dropout rollnumbers like :504,531,556,547,557\n",
    "*  example:193H1A0501\n",
    "          193H1A0502\n",
    "          .....\n",
    "          ...\n",
    "          193H1A0561"
   ]
  },
  {
   "cell_type": "code",
   "execution_count": null,
   "metadata": {},
   "outputs": [],
   "source": []
  },
  {
   "cell_type": "code",
   "execution_count": null,
   "metadata": {},
   "outputs": [],
   "source": []
  }
 ],
 "metadata": {
  "kernelspec": {
   "display_name": "Python 3",
   "language": "python",
   "name": "python3"
  },
  "language_info": {
   "codemirror_mode": {
    "name": "ipython",
    "version": 3
   },
   "file_extension": ".py",
   "mimetype": "text/x-python",
   "name": "python",
   "nbconvert_exporter": "python",
   "pygments_lexer": "ipython3",
   "version": "3.7.1"
  }
 },
 "nbformat": 4,
 "nbformat_minor": 2
}
